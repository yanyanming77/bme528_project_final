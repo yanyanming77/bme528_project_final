{
 "cells": [
  {
   "cell_type": "code",
   "execution_count": 1,
   "id": "1c9ce11f",
   "metadata": {},
   "outputs": [],
   "source": [
    "import pandas as pd\n",
    "import numpy as np\n",
    "import matplotlib.pyplot as plt\n",
    "import sqlite3\n",
    "import os\n",
    "import random\n",
    "import seaborn as sns"
   ]
  },
  {
   "cell_type": "markdown",
   "id": "936b6dd8",
   "metadata": {},
   "source": [
    "### Generate data and intsert into database"
   ]
  },
  {
   "cell_type": "markdown",
   "id": "2b91e246",
   "metadata": {},
   "source": [
    "list of vars: (total of 10)\n",
    "patient_id, similarity, roi_dose, ptv_dose, ptv_volume, roi_roi_distance,\n",
    "roi_roi_overlap, rt_dose, roi, institution"
   ]
  },
  {
   "cell_type": "code",
   "execution_count": 2,
   "id": "838c3a83",
   "metadata": {
    "scrolled": true
   },
   "outputs": [
    {
     "name": "stdout",
     "output_type": "stream",
     "text": [
      "600\n"
     ]
    }
   ],
   "source": [
    "# generate data (600 patients, 100 ucla, 200 suny b, 300 others)\n",
    "# 1. patient ID, from UCLA/SUNY_B\n",
    "patient_id = []\n",
    "for i in list(range(1,101)):\n",
    "    inst_name = 'UCLA_PR_'\n",
    "    pid = inst_name+str(i)\n",
    "    patient_id.append(pid)\n",
    "for i in list(range(1,201)):\n",
    "    inst_name = 'SUNY_B_PR_'\n",
    "    pid = inst_name+str(i)\n",
    "    patient_id.append(pid)\n",
    "for i in list(range(1,301)):\n",
    "    inst_name = 'OTHERS_PR_'\n",
    "    pid = inst_name+str(i)\n",
    "    patient_id.append(pid)\n",
    "print(len(patient_id))"
   ]
  },
  {
   "cell_type": "code",
   "execution_count": 3,
   "id": "8a82884b",
   "metadata": {},
   "outputs": [],
   "source": [
    "# # 2. similarity 0~0.99\n",
    "# similarity = list(np.random.uniform(0.1,0.99,600).round(2))\n",
    "\n",
    "# 3. PTV dose 0~100 Gy\n",
    "ptv_dose = list(np.random.normal(40,5,600).round(2))\n",
    "# print(\"PTV dose\", ptv_dose[:10])\n",
    "\n",
    "# 4. roi dose 0~100 Gy (ptv_dose - a proportion of itself)\n",
    "roi_dose = [round(i- i*(np.random.normal(0.5,0.2)),2) for i in ptv_dose]\n",
    "# print(\"ROI dose\", roi_dose[:10])\n",
    "\n",
    "# 5. PTV volume 0~194 mm^3\n",
    "ptv_volume = list(np.random.normal(130,30,600).round(2))\n",
    "\n",
    "# 6. ROI-ROI distance 0~99mm\n",
    "roi_roi_distance = list(np.random.normal(50,20,600).round(2))\n",
    "\n",
    "# 7. ROI-ROI overlap 0~99%\n",
    "roi_roi_overlap = list(np.random.normal(0.5,0.3,600).round(2))\n",
    "\n",
    "# 8. RT dose 40~60 Gy\n",
    "rt_dose = list(np.random.uniform(50,10,600).round(2))\n",
    "\n",
    "# 9. roi \n",
    "roi_possible_list = ['Brainstem', 'Cochlea R', 'Cochlea L', 'Dental Amalgam', 'GTV','Lacrimal R','Lens R',\n",
    "                    'Optic Chiasm','Optic Nerve','PTV','Retina R','Teeth']\n",
    "np.random.seed(22)\n",
    "roi = list(np.random.choice(a = roi_possible_list, size=600))"
   ]
  },
  {
   "cell_type": "code",
   "execution_count": 4,
   "id": "f21f7db1",
   "metadata": {},
   "outputs": [],
   "source": [
    "# create dataframe (deleted similarity)\n",
    "col_in_db0 = ['patient_id','roi_dose','ptv_dose','ptv_volume',\\\n",
    "             'roi_roi_distance','roi_roi_overlap','rt_dose',\\\n",
    "            'roi']\n",
    "df = pd.DataFrame(list(zip(patient_id, roi_dose, ptv_dose,\\\n",
    "                          ptv_volume, roi_roi_distance, roi_roi_overlap, rt_dose,\\\n",
    "                          roi)), columns = col_in_db0)"
   ]
  },
  {
   "cell_type": "code",
   "execution_count": 5,
   "id": "02046a15",
   "metadata": {
    "scrolled": true
   },
   "outputs": [
    {
     "data": {
      "text/html": [
       "<div>\n",
       "<style scoped>\n",
       "    .dataframe tbody tr th:only-of-type {\n",
       "        vertical-align: middle;\n",
       "    }\n",
       "\n",
       "    .dataframe tbody tr th {\n",
       "        vertical-align: top;\n",
       "    }\n",
       "\n",
       "    .dataframe thead th {\n",
       "        text-align: right;\n",
       "    }\n",
       "</style>\n",
       "<table border=\"1\" class=\"dataframe\">\n",
       "  <thead>\n",
       "    <tr style=\"text-align: right;\">\n",
       "      <th></th>\n",
       "      <th>patient_id</th>\n",
       "      <th>roi_dose</th>\n",
       "      <th>ptv_dose</th>\n",
       "      <th>ptv_volume</th>\n",
       "      <th>roi_roi_distance</th>\n",
       "      <th>roi_roi_overlap</th>\n",
       "      <th>rt_dose</th>\n",
       "      <th>roi</th>\n",
       "      <th>institution</th>\n",
       "    </tr>\n",
       "  </thead>\n",
       "  <tbody>\n",
       "    <tr>\n",
       "      <th>0</th>\n",
       "      <td>UCLA_PR_1</td>\n",
       "      <td>2.40</td>\n",
       "      <td>39.55</td>\n",
       "      <td>133.52</td>\n",
       "      <td>70.14</td>\n",
       "      <td>0.52</td>\n",
       "      <td>25.40</td>\n",
       "      <td>Lacrimal R</td>\n",
       "      <td>UCLA</td>\n",
       "    </tr>\n",
       "    <tr>\n",
       "      <th>1</th>\n",
       "      <td>UCLA_PR_2</td>\n",
       "      <td>20.38</td>\n",
       "      <td>31.76</td>\n",
       "      <td>83.78</td>\n",
       "      <td>72.53</td>\n",
       "      <td>0.72</td>\n",
       "      <td>35.82</td>\n",
       "      <td>GTV</td>\n",
       "      <td>UCLA</td>\n",
       "    </tr>\n",
       "    <tr>\n",
       "      <th>2</th>\n",
       "      <td>UCLA_PR_3</td>\n",
       "      <td>9.29</td>\n",
       "      <td>34.85</td>\n",
       "      <td>144.42</td>\n",
       "      <td>52.20</td>\n",
       "      <td>0.57</td>\n",
       "      <td>39.99</td>\n",
       "      <td>Brainstem</td>\n",
       "      <td>UCLA</td>\n",
       "    </tr>\n",
       "    <tr>\n",
       "      <th>3</th>\n",
       "      <td>UCLA_PR_4</td>\n",
       "      <td>25.62</td>\n",
       "      <td>35.00</td>\n",
       "      <td>107.16</td>\n",
       "      <td>77.22</td>\n",
       "      <td>-0.02</td>\n",
       "      <td>22.12</td>\n",
       "      <td>GTV</td>\n",
       "      <td>UCLA</td>\n",
       "    </tr>\n",
       "    <tr>\n",
       "      <th>4</th>\n",
       "      <td>UCLA_PR_5</td>\n",
       "      <td>21.22</td>\n",
       "      <td>35.43</td>\n",
       "      <td>130.13</td>\n",
       "      <td>36.90</td>\n",
       "      <td>0.51</td>\n",
       "      <td>12.89</td>\n",
       "      <td>Lens R</td>\n",
       "      <td>UCLA</td>\n",
       "    </tr>\n",
       "    <tr>\n",
       "      <th>5</th>\n",
       "      <td>UCLA_PR_6</td>\n",
       "      <td>16.79</td>\n",
       "      <td>35.95</td>\n",
       "      <td>112.88</td>\n",
       "      <td>49.95</td>\n",
       "      <td>0.73</td>\n",
       "      <td>23.01</td>\n",
       "      <td>Lens R</td>\n",
       "      <td>UCLA</td>\n",
       "    </tr>\n",
       "    <tr>\n",
       "      <th>6</th>\n",
       "      <td>UCLA_PR_7</td>\n",
       "      <td>8.95</td>\n",
       "      <td>43.94</td>\n",
       "      <td>91.55</td>\n",
       "      <td>39.11</td>\n",
       "      <td>0.47</td>\n",
       "      <td>20.74</td>\n",
       "      <td>Teeth</td>\n",
       "      <td>UCLA</td>\n",
       "    </tr>\n",
       "    <tr>\n",
       "      <th>7</th>\n",
       "      <td>UCLA_PR_8</td>\n",
       "      <td>23.61</td>\n",
       "      <td>38.35</td>\n",
       "      <td>65.08</td>\n",
       "      <td>73.42</td>\n",
       "      <td>0.82</td>\n",
       "      <td>39.95</td>\n",
       "      <td>GTV</td>\n",
       "      <td>UCLA</td>\n",
       "    </tr>\n",
       "    <tr>\n",
       "      <th>8</th>\n",
       "      <td>UCLA_PR_9</td>\n",
       "      <td>9.23</td>\n",
       "      <td>28.83</td>\n",
       "      <td>171.49</td>\n",
       "      <td>49.49</td>\n",
       "      <td>0.27</td>\n",
       "      <td>47.56</td>\n",
       "      <td>Optic Nerve</td>\n",
       "      <td>UCLA</td>\n",
       "    </tr>\n",
       "    <tr>\n",
       "      <th>9</th>\n",
       "      <td>UCLA_PR_10</td>\n",
       "      <td>19.41</td>\n",
       "      <td>42.59</td>\n",
       "      <td>87.32</td>\n",
       "      <td>67.45</td>\n",
       "      <td>0.41</td>\n",
       "      <td>21.86</td>\n",
       "      <td>GTV</td>\n",
       "      <td>UCLA</td>\n",
       "    </tr>\n",
       "  </tbody>\n",
       "</table>\n",
       "</div>"
      ],
      "text/plain": [
       "   patient_id  roi_dose  ptv_dose  ptv_volume  roi_roi_distance  \\\n",
       "0   UCLA_PR_1      2.40     39.55      133.52             70.14   \n",
       "1   UCLA_PR_2     20.38     31.76       83.78             72.53   \n",
       "2   UCLA_PR_3      9.29     34.85      144.42             52.20   \n",
       "3   UCLA_PR_4     25.62     35.00      107.16             77.22   \n",
       "4   UCLA_PR_5     21.22     35.43      130.13             36.90   \n",
       "5   UCLA_PR_6     16.79     35.95      112.88             49.95   \n",
       "6   UCLA_PR_7      8.95     43.94       91.55             39.11   \n",
       "7   UCLA_PR_8     23.61     38.35       65.08             73.42   \n",
       "8   UCLA_PR_9      9.23     28.83      171.49             49.49   \n",
       "9  UCLA_PR_10     19.41     42.59       87.32             67.45   \n",
       "\n",
       "   roi_roi_overlap  rt_dose          roi institution  \n",
       "0             0.52    25.40   Lacrimal R        UCLA  \n",
       "1             0.72    35.82          GTV        UCLA  \n",
       "2             0.57    39.99    Brainstem        UCLA  \n",
       "3            -0.02    22.12          GTV        UCLA  \n",
       "4             0.51    12.89       Lens R        UCLA  \n",
       "5             0.73    23.01       Lens R        UCLA  \n",
       "6             0.47    20.74        Teeth        UCLA  \n",
       "7             0.82    39.95          GTV        UCLA  \n",
       "8             0.27    47.56  Optic Nerve        UCLA  \n",
       "9             0.41    21.86          GTV        UCLA  "
      ]
     },
     "execution_count": 5,
     "metadata": {},
     "output_type": "execute_result"
    }
   ],
   "source": [
    "# 10. institution: generate later\n",
    "df['pos'] = df['patient_id'].str.find('_PR_')\n",
    "df['institution'] = df.apply(lambda x:x['patient_id'][0:x['pos']], axis=1)\n",
    "df.drop(columns=['pos'],inplace=True)\n",
    "df.head(10)"
   ]
  },
  {
   "cell_type": "code",
   "execution_count": 10,
   "id": "77d9f1a5",
   "metadata": {},
   "outputs": [],
   "source": [
    "# reate a connection\n",
    "conn = sqlite3.connect(os.getcwd()+'/gui/bme_gui/bme_gui/db.sqlite3')\n",
    "c = conn.cursor()"
   ]
  },
  {
   "cell_type": "code",
   "execution_count": 7,
   "id": "231c3caf",
   "metadata": {
    "collapsed": true
   },
   "outputs": [
    {
     "ename": "OperationalError",
     "evalue": "no such table: myapp_treatment",
     "output_type": "error",
     "traceback": [
      "\u001b[0;31m---------------------------------------------------------------------------\u001b[0m",
      "\u001b[0;31mOperationalError\u001b[0m                          Traceback (most recent call last)",
      "\u001b[0;32m/var/folders/f3/3y6bnyhj3pdd_n5306g1wh5m0000gn/T/ipykernel_20885/2744368358.py\u001b[0m in \u001b[0;36m<module>\u001b[0;34m\u001b[0m\n\u001b[1;32m      1\u001b[0m \u001b[0;31m# delete all rows\u001b[0m\u001b[0;34m\u001b[0m\u001b[0;34m\u001b[0m\u001b[0;34m\u001b[0m\u001b[0m\n\u001b[0;32m----> 2\u001b[0;31m \u001b[0mc\u001b[0m\u001b[0;34m.\u001b[0m\u001b[0mexecute\u001b[0m\u001b[0;34m(\u001b[0m\u001b[0;34m'delete from myapp_treatment'\u001b[0m\u001b[0;34m)\u001b[0m\u001b[0;34m\u001b[0m\u001b[0;34m\u001b[0m\u001b[0m\n\u001b[0m\u001b[1;32m      3\u001b[0m \u001b[0mconn\u001b[0m\u001b[0;34m.\u001b[0m\u001b[0mcommit\u001b[0m\u001b[0;34m(\u001b[0m\u001b[0;34m)\u001b[0m\u001b[0;34m\u001b[0m\u001b[0;34m\u001b[0m\u001b[0m\n\u001b[1;32m      4\u001b[0m \u001b[0mc\u001b[0m\u001b[0;34m.\u001b[0m\u001b[0mexecute\u001b[0m\u001b[0;34m(\u001b[0m\u001b[0;34m'select count(*) from myapp_treatment'\u001b[0m\u001b[0;34m)\u001b[0m\u001b[0;34m.\u001b[0m\u001b[0mfetchall\u001b[0m\u001b[0;34m(\u001b[0m\u001b[0;34m)\u001b[0m\u001b[0;34m\u001b[0m\u001b[0;34m\u001b[0m\u001b[0m\n",
      "\u001b[0;31mOperationalError\u001b[0m: no such table: myapp_treatment"
     ]
    }
   ],
   "source": [
    "# # delete all rows\n",
    "# c.execute('delete from myapp_treatment')\n",
    "# conn.commit()\n",
    "# c.execute('select count(*) from myapp_treatment').fetchall()"
   ]
  },
  {
   "cell_type": "code",
   "execution_count": 12,
   "id": "e6f8f6b2",
   "metadata": {},
   "outputs": [],
   "source": [
    "# conn.close()"
   ]
  },
  {
   "cell_type": "code",
   "execution_count": 11,
   "id": "56025e3b",
   "metadata": {},
   "outputs": [
    {
     "name": "stdout",
     "output_type": "stream",
     "text": [
      "('no such table: myapp_treatment',)\n"
     ]
    }
   ],
   "source": [
    "# convert data to records\n",
    "records = list(df.to_records(index=False))\n",
    "# insert\n",
    "try:\n",
    "    c.executemany('insert into myapp_treatment(patient_id, roi_dose, ptv_dose,\\\n",
    "                 ptv_volume, roi_roi_distance, roi_roi_overlap, rt_dose, roi, institution)\\\n",
    "                  values(?,?,?,?,?,?,?,?,?);', records)\n",
    "    print(\"successfully instered data\")\n",
    "    print(c.execute('select * from myapp_treatment;').fetchmany(10))\n",
    "    conn.commit()\n",
    "except sqlite3.Error as e:\n",
    "    print(e.args)"
   ]
  },
  {
   "cell_type": "code",
   "execution_count": 99,
   "id": "6857ea7a",
   "metadata": {},
   "outputs": [
    {
     "name": "stdout",
     "output_type": "stream",
     "text": [
      "[(600,)]\n"
     ]
    }
   ],
   "source": [
    "c = conn.cursor()\n",
    "print(c.execute('select count(*) from myapp_treatment limit 10;').fetchmany(10))"
   ]
  },
  {
   "cell_type": "code",
   "execution_count": 100,
   "id": "a3a58ecb",
   "metadata": {},
   "outputs": [],
   "source": [
    "conn.close()"
   ]
  },
  {
   "cell_type": "markdown",
   "id": "6ef1c639",
   "metadata": {},
   "source": [
    "Similarity Table"
   ]
  },
  {
   "cell_type": "code",
   "execution_count": 16,
   "id": "8678240f",
   "metadata": {},
   "outputs": [
    {
     "name": "stdout",
     "output_type": "stream",
     "text": [
      "successfully instered patient ID\n",
      "[(1, None, 'UCLA_PR_1'), (2, None, 'UCLA_PR_2'), (3, None, 'UCLA_PR_3'), (4, None, 'UCLA_PR_4'), (5, None, 'UCLA_PR_5'), (6, None, 'UCLA_PR_6'), (7, None, 'UCLA_PR_7'), (8, None, 'UCLA_PR_8'), (9, None, 'UCLA_PR_9'), (10, None, 'UCLA_PR_10')]\n"
     ]
    }
   ],
   "source": [
    "# convert data to records\n",
    "records_patientID = list(df[['patient_id']].to_records(index=False))\n",
    "# print(records_patientID)\n",
    "# insert\n",
    "try:\n",
    "    c.executemany('insert into myapp_similarity(patient_id_id)\\\n",
    "                  values(?);', records_patientID)\n",
    "    print(\"successfully instered patient ID\")\n",
    "    print(c.execute('select * from myapp_similarity;').fetchmany(10))\n",
    "    conn.commit()\n",
    "except sqlite3.Error as e:\n",
    "    print(e.args)"
   ]
  },
  {
   "cell_type": "code",
   "execution_count": 17,
   "id": "120774cc",
   "metadata": {},
   "outputs": [
    {
     "name": "stdout",
     "output_type": "stream",
     "text": [
      "[(1, None, 'UCLA_PR_1'), (2, None, 'UCLA_PR_2'), (3, None, 'UCLA_PR_3'), (4, None, 'UCLA_PR_4'), (5, None, 'UCLA_PR_5'), (6, None, 'UCLA_PR_6'), (7, None, 'UCLA_PR_7'), (8, None, 'UCLA_PR_8'), (9, None, 'UCLA_PR_9'), (10, None, 'UCLA_PR_10')]\n"
     ]
    }
   ],
   "source": [
    "print(c.execute('select * from myapp_similarity limit 10;').fetchall())"
   ]
  },
  {
   "cell_type": "markdown",
   "id": "682891cf",
   "metadata": {},
   "source": [
    "Parsed DICOM table"
   ]
  },
  {
   "cell_type": "code",
   "execution_count": 20,
   "id": "f44006fc",
   "metadata": {},
   "outputs": [
    {
     "data": {
      "text/plain": [
       "[(0,)]"
      ]
     },
     "execution_count": 20,
     "metadata": {},
     "output_type": "execute_result"
    }
   ],
   "source": [
    "# delete all rows\n",
    "c.execute('delete from myapp_parsed_dicom')\n",
    "conn.commit()\n",
    "c.execute('select count(*) from myapp_parsed_dicom').fetchall()"
   ]
  },
  {
   "cell_type": "code",
   "execution_count": 21,
   "id": "4de2c5a2",
   "metadata": {},
   "outputs": [],
   "source": [
    "conn.close()"
   ]
  },
  {
   "cell_type": "code",
   "execution_count": 24,
   "id": "18a1b653",
   "metadata": {},
   "outputs": [],
   "source": [
    "from datetime import datetime"
   ]
  },
  {
   "cell_type": "code",
   "execution_count": 25,
   "id": "bf358d05",
   "metadata": {},
   "outputs": [
    {
     "name": "stdout",
     "output_type": "stream",
     "text": [
      "2022-04-08 20:40:32.816311\n"
     ]
    }
   ],
   "source": [
    "d = datetime.now()\n",
    "print(d)"
   ]
  },
  {
   "cell_type": "code",
   "execution_count": 29,
   "id": "40fa757f",
   "metadata": {},
   "outputs": [
    {
     "name": "stdout",
     "output_type": "stream",
     "text": [
      "2022-04-08 20:40:32\n",
      "<class 'str'>\n"
     ]
    }
   ],
   "source": [
    "d=d.strftime(\"%Y-%m-%d %H:%M:%S\")\n",
    "print(d)\n",
    "print(type(d))"
   ]
  },
  {
   "cell_type": "code",
   "execution_count": 28,
   "id": "0062d773",
   "metadata": {},
   "outputs": [
    {
     "name": "stdout",
     "output_type": "stream",
     "text": [
      "<class 'datetime.datetime'>\n"
     ]
    }
   ],
   "source": [
    "str(d)\n",
    "print(type(d))"
   ]
  },
  {
   "cell_type": "markdown",
   "id": "eb5790c0",
   "metadata": {},
   "source": [
    "### Visualize"
   ]
  },
  {
   "cell_type": "markdown",
   "id": "37c1975d",
   "metadata": {},
   "source": [
    "dummy data for visualization"
   ]
  },
  {
   "cell_type": "code",
   "execution_count": 78,
   "id": "5b8cc1f1",
   "metadata": {},
   "outputs": [
    {
     "name": "stdout",
     "output_type": "stream",
     "text": [
      "  patient_id  roi_dose  ptv_dose  ptv_volume  roi_roi_distance  \\\n",
      "0  UCLA_PR_1     21.30     32.19      189.27             51.43   \n",
      "1  UCLA_PR_2     23.72     43.32      150.27             35.45   \n",
      "2  UCLA_PR_3     16.31     34.91      147.15             53.75   \n",
      "3  UCLA_PR_4     38.00     47.51      141.13             57.38   \n",
      "4  UCLA_PR_5     29.73     44.85      134.36             51.51   \n",
      "\n",
      "   roi_roi_overlap  rt_dose         roi institution  similarity  \n",
      "0             0.75    19.45  Lacrimal R        UCLA      0.6298  \n",
      "1             0.56    35.28         GTV        UCLA      0.3458  \n",
      "2             0.15    40.80   Brainstem        UCLA      0.7067  \n",
      "3             0.76    32.32         GTV        UCLA      0.4354  \n",
      "4             0.26    39.61      Lens R        UCLA      0.3500  \n"
     ]
    }
   ],
   "source": [
    "similarity = list(np.random.uniform(0.1,0.99,600).round(4))\n",
    "df['similarity'] = similarity\n",
    "print(df.head())"
   ]
  },
  {
   "cell_type": "code",
   "execution_count": 79,
   "id": "819610fe",
   "metadata": {},
   "outputs": [],
   "source": [
    "dff = df[df['similarity']>0.9]"
   ]
  },
  {
   "cell_type": "code",
   "execution_count": 87,
   "id": "733635c2",
   "metadata": {},
   "outputs": [],
   "source": [
    "a=None"
   ]
  },
  {
   "cell_type": "code",
   "execution_count": 91,
   "id": "0965a210",
   "metadata": {},
   "outputs": [
    {
     "name": "stdout",
     "output_type": "stream",
     "text": [
      "Aa\n"
     ]
    }
   ],
   "source": [
    "if a: \n",
    "    print(\"yea\")\n",
    "if not a:\n",
    "    print(\"Aa\")"
   ]
  }
 ],
 "metadata": {
  "kernelspec": {
   "display_name": "Python 3 (ipykernel)",
   "language": "python",
   "name": "python3"
  },
  "language_info": {
   "codemirror_mode": {
    "name": "ipython",
    "version": 3
   },
   "file_extension": ".py",
   "mimetype": "text/x-python",
   "name": "python",
   "nbconvert_exporter": "python",
   "pygments_lexer": "ipython3",
   "version": "3.8.2"
  }
 },
 "nbformat": 4,
 "nbformat_minor": 5
}
